{
 "cells": [
  {
   "cell_type": "code",
   "execution_count": null,
   "metadata": {},
   "outputs": [],
   "source": [
    "# continuation wit lists:"
   ]
  },
  {
   "cell_type": "code",
   "execution_count": 1,
   "metadata": {},
   "outputs": [
    {
     "name": "stdout",
     "output_type": "stream",
     "text": [
      "['lakshmi', 'ashok', 'ayub', 'ram', 'usha', 'bhavya', 'kishore']\n"
     ]
    }
   ],
   "source": [
    "# Organising the data with list:\n",
    "\n",
    "students=['lakshmi','ashok','ayub','ram','usha','bhavya','kishore']\n",
    "\n",
    "print(students)"
   ]
  },
  {
   "cell_type": "code",
   "execution_count": null,
   "metadata": {},
   "outputs": [],
   "source": [
    "# Requirement: want to arrange the list in an alphabetical order (a-z)\n",
    "# Two ways to achieve this.\n",
    "# 1. Temporary way: \n",
    "    original list order will be retained and maintained.\n",
    "    sorted method will be used.\n",
    "# 2. Permanent way:\n",
    "    original list order will not be be retained and maintained.\n",
    "    sort method will be used."
   ]
  },
  {
   "cell_type": "code",
   "execution_count": 2,
   "metadata": {},
   "outputs": [
    {
     "name": "stdout",
     "output_type": "stream",
     "text": [
      "['ashok', 'ayub', 'bhavya', 'kishore', 'lakshmi', 'ram', 'usha']\n"
     ]
    }
   ],
   "source": [
    "# Implementation of temp way.\n",
    "# sorted VS sort\n",
    "\n",
    "print(sorted(students))"
   ]
  },
  {
   "cell_type": "code",
   "execution_count": 3,
   "metadata": {},
   "outputs": [
    {
     "name": "stdout",
     "output_type": "stream",
     "text": [
      "['lakshmi', 'ashok', 'ayub', 'ram', 'usha', 'bhavya', 'kishore']\n"
     ]
    }
   ],
   "source": [
    "print(students)   # original defined list is maintained"
   ]
  },
  {
   "cell_type": "code",
   "execution_count": 4,
   "metadata": {},
   "outputs": [
    {
     "name": "stdout",
     "output_type": "stream",
     "text": [
      "['ashok', 'ayub', 'bhavya', 'kishore', 'lakshmi', 'ram', 'usha']\n"
     ]
    }
   ],
   "source": [
    "# Permanent way: Implementation\n",
    "\n",
    "students.sort()\n",
    "\n",
    "print(students)"
   ]
  },
  {
   "cell_type": "code",
   "execution_count": 5,
   "metadata": {},
   "outputs": [
    {
     "name": "stdout",
     "output_type": "stream",
     "text": [
      "['ashok', 'ayub', 'bhavya', 'kishore', 'lakshmi', 'ram', 'usha']\n"
     ]
    }
   ],
   "source": [
    "print(students) # original defined list is not maintained"
   ]
  },
  {
   "cell_type": "code",
   "execution_count": 6,
   "metadata": {},
   "outputs": [
    {
     "data": {
      "text/plain": [
       "7"
      ]
     },
     "execution_count": 6,
     "metadata": {},
     "output_type": "execute_result"
    }
   ],
   "source": [
    "# Requirement: to know the count of elements that are present in the list\n",
    "\n",
    "len(students)"
   ]
  },
  {
   "cell_type": "code",
   "execution_count": 7,
   "metadata": {},
   "outputs": [
    {
     "name": "stdout",
     "output_type": "stream",
     "text": [
      "['usha', 'ram', 'lakshmi', 'kishore', 'bhavya', 'ayub', 'ashok']\n"
     ]
    }
   ],
   "source": [
    "# How do you print the list in reverse order\n",
    "\n",
    "students.reverse() # changes made by reverse() method are permanent\n",
    "\n",
    "print(students)"
   ]
  },
  {
   "cell_type": "code",
   "execution_count": 8,
   "metadata": {},
   "outputs": [
    {
     "name": "stdout",
     "output_type": "stream",
     "text": [
      "['ashok', 'ayub', 'bhavya', 'kishore', 'lakshmi', 'ram', 'usha']\n"
     ]
    }
   ],
   "source": [
    "# List will be reverted back\n",
    "\n",
    "students.reverse() \n",
    "\n",
    "print(students)"
   ]
  },
  {
   "cell_type": "code",
   "execution_count": 9,
   "metadata": {},
   "outputs": [
    {
     "name": "stdout",
     "output_type": "stream",
     "text": [
      "['ashok', 'ayub', 'bhavya', 'kishore', 'lakshmi', 'ram', 'usha']\n"
     ]
    }
   ],
   "source": [
    "# Introduction to slicing of list\n",
    "\n",
    "print(students)"
   ]
  },
  {
   "cell_type": "code",
   "execution_count": 10,
   "metadata": {},
   "outputs": [
    {
     "data": {
      "text/plain": [
       "list"
      ]
     },
     "execution_count": 10,
     "metadata": {},
     "output_type": "execute_result"
    }
   ],
   "source": [
    "type(students)"
   ]
  },
  {
   "cell_type": "code",
   "execution_count": 11,
   "metadata": {},
   "outputs": [
    {
     "name": "stdout",
     "output_type": "stream",
     "text": [
      "['ashok', 'ayub', 'bhavya', 'kishore', 'lakshmi', 'ram', 'usha', 'hari']\n"
     ]
    }
   ],
   "source": [
    "students.append('hari')\n",
    "               \n",
    "print(students)"
   ]
  },
  {
   "cell_type": "code",
   "execution_count": 13,
   "metadata": {},
   "outputs": [
    {
     "name": "stdout",
     "output_type": "stream",
     "text": [
      "['ashok']\n"
     ]
    }
   ],
   "source": [
    "# General sytax of slicing variable\n",
    "\n",
    "#variable[startpoint:endpoint:stepcount]   # lst value is always exclusive\n",
    "\n",
    "# ashok & ayub in a single group\n",
    "print(students[0:1])"
   ]
  },
  {
   "cell_type": "code",
   "execution_count": 14,
   "metadata": {},
   "outputs": [
    {
     "name": "stdout",
     "output_type": "stream",
     "text": [
      "['ashok', 'ayub']\n"
     ]
    }
   ],
   "source": [
    "print(students[0:2])"
   ]
  },
  {
   "cell_type": "code",
   "execution_count": 15,
   "metadata": {},
   "outputs": [
    {
     "name": "stdout",
     "output_type": "stream",
     "text": [
      "['bhavya', 'kishore']\n"
     ]
    }
   ],
   "source": [
    "print(students[2:4])"
   ]
  },
  {
   "cell_type": "code",
   "execution_count": 16,
   "metadata": {},
   "outputs": [
    {
     "name": "stdout",
     "output_type": "stream",
     "text": [
      "['lakshmi', 'ram']\n"
     ]
    }
   ],
   "source": [
    "print(students[4:6])"
   ]
  },
  {
   "cell_type": "code",
   "execution_count": 17,
   "metadata": {},
   "outputs": [
    {
     "name": "stdout",
     "output_type": "stream",
     "text": [
      "['usha', 'hari']\n"
     ]
    }
   ],
   "source": [
    "print(students[6:8])"
   ]
  },
  {
   "cell_type": "code",
   "execution_count": null,
   "metadata": {},
   "outputs": [],
   "source": []
  }
 ],
 "metadata": {
  "kernelspec": {
   "display_name": "Python 3",
   "language": "python",
   "name": "python3"
  },
  "language_info": {
   "codemirror_mode": {
    "name": "ipython",
    "version": 3
   },
   "file_extension": ".py",
   "mimetype": "text/x-python",
   "name": "python",
   "nbconvert_exporter": "python",
   "pygments_lexer": "ipython3",
   "version": "3.7.6"
  }
 },
 "nbformat": 4,
 "nbformat_minor": 4
}
