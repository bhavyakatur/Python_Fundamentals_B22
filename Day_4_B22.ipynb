{
 "cells": [
  {
   "cell_type": "code",
   "execution_count": 3,
   "metadata": {},
   "outputs": [],
   "source": [
    "Introduction to List datatypes:\n",
    "\n",
    "Definition:\n",
    "A list is an ordered collection of items.\n",
    "A list is classified as an mutable data type.\n",
    "A list is defined by using the square [] brackets"
   ]
  },
  {
   "cell_type": "code",
   "execution_count": 55,
   "metadata": {},
   "outputs": [
    {
     "data": {
      "text/plain": [
       "list"
      ]
     },
     "execution_count": 55,
     "metadata": {},
     "output_type": "execute_result"
    }
   ],
   "source": [
    "students=['hema','raja','priya','mala','hari','mahesh']\n",
    "\n",
    "type(students)"
   ]
  },
  {
   "cell_type": "code",
   "execution_count": 56,
   "metadata": {},
   "outputs": [
    {
     "name": "stdout",
     "output_type": "stream",
     "text": [
      "priya\n",
      "mahesh\n",
      "Mahesh\n"
     ]
    }
   ],
   "source": [
    "# Introduction to indexing: indexing will be starting from 0,1,2,3....\n",
    "# How to access or retrieve the elements from the list\n",
    "\n",
    "# I want to access priya name on the o/p\n",
    "\n",
    "print(students[2])\n",
    "\n",
    "print(students[5])\n",
    "\n",
    "print(students[5].title())"
   ]
  },
  {
   "cell_type": "code",
   "execution_count": 57,
   "metadata": {},
   "outputs": [
    {
     "name": "stdout",
     "output_type": "stream",
     "text": [
      "['hema', 'raja', 'priya', 'mala', 'hari', 'mahesh']\n"
     ]
    }
   ],
   "source": [
    "# Reassignment,adding and removing elements from the list\n",
    "\n",
    "# Reassigning the elements in the list\n",
    "\n",
    "print(students)"
   ]
  },
  {
   "cell_type": "code",
   "execution_count": 58,
   "metadata": {},
   "outputs": [
    {
     "name": "stdout",
     "output_type": "stream",
     "text": [
      "['hema', 'kumar', 'priya', 'mala', 'hari', 'mahesh']\n"
     ]
    }
   ],
   "source": [
    "# Request : to replace raja-> kumar\n",
    "\n",
    "students[1]='kumar'  # reassignment done here\n",
    "\n",
    "print(students)"
   ]
  },
  {
   "cell_type": "code",
   "execution_count": 59,
   "metadata": {},
   "outputs": [
    {
     "name": "stdout",
     "output_type": "stream",
     "text": [
      "['hema', 'kumar', 'priya', 'mala', 'hari', 'mahesh', 'manju']\n"
     ]
    }
   ],
   "source": [
    "# Adding new elements to the list *manju*\n",
    "\n",
    "students.append('manju')\n",
    "\n",
    "print(students)"
   ]
  },
  {
   "cell_type": "code",
   "execution_count": 60,
   "metadata": {},
   "outputs": [
    {
     "name": "stdout",
     "output_type": "stream",
     "text": [
      "['hema', 'kumar', 'priya', 'mala', 'hari', 'mahesh', 'manju', 'Balu']\n"
     ]
    }
   ],
   "source": [
    "# add Balu\n",
    "\n",
    "students.append('Balu')\n",
    "\n",
    "print(students)"
   ]
  },
  {
   "cell_type": "code",
   "execution_count": 61,
   "metadata": {},
   "outputs": [
    {
     "name": "stdout",
     "output_type": "stream",
     "text": [
      "['hema', 'kumar', 'sriLakshmi', 'priya', 'mala', 'hari', 'mahesh', 'manju', 'Balu']\n"
     ]
    }
   ],
   "source": [
    "# Append will add the elements to the last index positioning the list \n",
    "# SriLakshmi to --> 2 index position\n",
    "\n",
    "students.insert(2,'sriLakshmi')\n",
    "\n",
    "print(students)"
   ]
  },
  {
   "cell_type": "code",
   "execution_count": 62,
   "metadata": {},
   "outputs": [
    {
     "name": "stdout",
     "output_type": "stream",
     "text": [
      "['hema', 'kumar', 'sriLakshmi', 'priya', 'sai', 'mala', 'hari', 'mahesh', 'manju', 'Balu']\n"
     ]
    }
   ],
   "source": [
    "# sai --> 4 index postion\n",
    "\n",
    "students.insert(4,'sai')\n",
    "\n",
    "print(students)"
   ]
  },
  {
   "cell_type": "code",
   "execution_count": 63,
   "metadata": {},
   "outputs": [
    {
     "name": "stdout",
     "output_type": "stream",
     "text": [
      "['hema', 'sriLakshmi', 'priya', 'sai', 'mala', 'hari', 'mahesh', 'manju', 'Balu']\n"
     ]
    }
   ],
   "source": [
    "# Removing the elements \n",
    "# want to delete 'kumar' name from the list\n",
    "\n",
    "# scenario 1: Permanent delete\n",
    "\n",
    "del(students[1])\n",
    "\n",
    "print(students)"
   ]
  },
  {
   "cell_type": "code",
   "execution_count": 64,
   "metadata": {},
   "outputs": [
    {
     "name": "stdout",
     "output_type": "stream",
     "text": [
      "Balu\n",
      "['hema', 'sriLakshmi', 'priya', 'sai', 'mala', 'hari', 'mahesh', 'manju']\n"
     ]
    }
   ],
   "source": [
    "# scenario 2 --> use of pop() method\n",
    "# will be deleteing the items from the last by default\n",
    "# It will be storing the deleted items like a carbon copy to a variable assigned to it\n",
    "# We can also delete the custom index position also from the list by using pop() method\n",
    "\n",
    "x = students.pop()         # x is a var acting like a carbon copy\n",
    "print(x)\n",
    "print(students)"
   ]
  },
  {
   "cell_type": "code",
   "execution_count": 65,
   "metadata": {},
   "outputs": [
    {
     "name": "stdout",
     "output_type": "stream",
     "text": [
      "mala\n",
      "['hema', 'sriLakshmi', 'priya', 'sai', 'hari', 'mahesh', 'manju']\n"
     ]
    }
   ],
   "source": [
    "y=students.pop(4)\n",
    "print(y)\n",
    "print(students)"
   ]
  },
  {
   "cell_type": "code",
   "execution_count": null,
   "metadata": {},
   "outputs": [],
   "source": []
  }
 ],
 "metadata": {
  "kernelspec": {
   "display_name": "Python 3",
   "language": "python",
   "name": "python3"
  },
  "language_info": {
   "codemirror_mode": {
    "name": "ipython",
    "version": 3
   },
   "file_extension": ".py",
   "mimetype": "text/x-python",
   "name": "python",
   "nbconvert_exporter": "python",
   "pygments_lexer": "ipython3",
   "version": "3.7.6"
  }
 },
 "nbformat": 4,
 "nbformat_minor": 4
}
