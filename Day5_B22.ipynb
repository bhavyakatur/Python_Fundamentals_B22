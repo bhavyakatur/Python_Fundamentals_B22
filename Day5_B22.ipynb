{
 "cells": [
  {
   "cell_type": "code",
   "execution_count": 2,
   "metadata": {},
   "outputs": [],
   "source": [
    "# Introduction to for loops:"
   ]
  },
  {
   "cell_type": "code",
   "execution_count": 6,
   "metadata": {},
   "outputs": [],
   "source": [
    "Bank_customer=['arsh','kiran','ravi','usha', 'bhavya','deepak'] #6 customers"
   ]
  },
  {
   "cell_type": "code",
   "execution_count": 7,
   "metadata": {},
   "outputs": [
    {
     "name": "stdout",
     "output_type": "stream",
     "text": [
      "Axis bank wishes you a very happy new year,Arsh\n"
     ]
    }
   ],
   "source": [
    "# Requirement: Greeting the customers: Axis bank wishes you a very happy new year, arsh\n",
    "# Regular way\n",
    "\n",
    "print(f\"Axis bank wishes you a very happy new year,{Bank_customer[0].title()}\")"
   ]
  },
  {
   "cell_type": "code",
   "execution_count": 8,
   "metadata": {},
   "outputs": [
    {
     "name": "stdout",
     "output_type": "stream",
     "text": [
      "Axis bank wishes you a very happy new year,Kiran\n"
     ]
    }
   ],
   "source": [
    "print(f\"Axis bank wishes you a very happy new year,{Bank_customer[1].title()}\")"
   ]
  },
  {
   "cell_type": "code",
   "execution_count": 10,
   "metadata": {},
   "outputs": [
    {
     "name": "stdout",
     "output_type": "stream",
     "text": [
      "Axis bank wishes you a very happy new year,arsh\n",
      "Axis bank wishes you a very happy new year,kiran\n",
      "Axis bank wishes you a very happy new year,ravi\n",
      "Axis bank wishes you a very happy new year,usha\n",
      "Axis bank wishes you a very happy new year,bhavya\n",
      "Axis bank wishes you a very happy new year,deepak\n"
     ]
    }
   ],
   "source": [
    "# To Automate the solution:\n",
    "\n",
    "for customers in Bank_customer:\n",
    "    print(f\"Axis bank wishes you a very happy new year,{customers}\")"
   ]
  },
  {
   "cell_type": "code",
   "execution_count": null,
   "metadata": {},
   "outputs": [],
   "source": [
    "# General sytax of a for loop\n",
    "\n",
    "for tempvar in mainvar:  #indentation\n",
    "    print(tempvar)"
   ]
  },
  {
   "cell_type": "code",
   "execution_count": 11,
   "metadata": {},
   "outputs": [
    {
     "ename": "IndentationError",
     "evalue": "expected an indented block (<ipython-input-11-764229c175c2>, line 3)",
     "output_type": "error",
     "traceback": [
      "\u001b[1;36m  File \u001b[1;32m\"<ipython-input-11-764229c175c2>\"\u001b[1;36m, line \u001b[1;32m3\u001b[0m\n\u001b[1;33m    print(f\"Axis bank wishes you a very happy new year,{customers}\")\u001b[0m\n\u001b[1;37m        ^\u001b[0m\n\u001b[1;31mIndentationError\u001b[0m\u001b[1;31m:\u001b[0m expected an indented block\n"
     ]
    }
   ],
   "source": [
    "# Indentation Error\n",
    "for customers in Bank_customer:\n",
    "print(f\"Axis bank wishes you a very happy new year,{customers}\")"
   ]
  },
  {
   "cell_type": "code",
   "execution_count": 12,
   "metadata": {},
   "outputs": [
    {
     "name": "stdout",
     "output_type": "stream",
     "text": [
      "Axis bank wishes you a very happy new year,arsh\n",
      "Axis bank wishes you a very happy new year,kiran\n",
      "Axis bank wishes you a very happy new year,ravi\n",
      "Axis bank wishes you a very happy new year,usha\n",
      "Axis bank wishes you a very happy new year,bhavya\n",
      "Axis bank wishes you a very happy new year,deepak\n"
     ]
    }
   ],
   "source": [
    "for x in Bank_customer:\n",
    "    print(f\"Axis bank wishes you a very happy new year,{x}\")"
   ]
  },
  {
   "cell_type": "code",
   "execution_count": 13,
   "metadata": {},
   "outputs": [
    {
     "name": "stdout",
     "output_type": "stream",
     "text": [
      "rahul\n",
      "ashish\n",
      "shahdeena\n",
      "samia\n",
      "suresh\n"
     ]
    }
   ],
   "source": [
    "my_students=['rahul','ashish','shahdeena','samia','suresh']\n",
    "\n",
    "# Requirement: To appreciate the students\n",
    "\n",
    "for student in my_students:\n",
    "    print(student)"
   ]
  },
  {
   "cell_type": "code",
   "execution_count": 19,
   "metadata": {},
   "outputs": [
    {
     "name": "stdout",
     "output_type": "stream",
     "text": [
      "Keep up the good work,Rahul\n",
      "Keep up the good work,Ashish\n",
      "Keep up the good work,Shahdeena\n",
      "Keep up the good work,Samia\n",
      "Keep up the good work,Suresh\n"
     ]
    }
   ],
   "source": [
    "for student in my_students:\n",
    "    print(f\"Keep up the good work,{student.title()}\")"
   ]
  },
  {
   "cell_type": "code",
   "execution_count": 20,
   "metadata": {},
   "outputs": [
    {
     "name": "stdout",
     "output_type": "stream",
     "text": [
      "Keep up the good work,Rahul\n",
      "Keep up the good work,Ashish\n",
      "Keep up the good work,Shahdeena\n",
      "Keep up the good work,Samia\n",
      "Keep up the good work,Suresh\n"
     ]
    }
   ],
   "source": [
    "for y in my_students:\n",
    "    print(f\"Keep up the good work,{y.title()}\")"
   ]
  },
  {
   "cell_type": "code",
   "execution_count": 21,
   "metadata": {},
   "outputs": [
    {
     "name": "stdout",
     "output_type": "stream",
     "text": [
      "Keep up the good work,Rahul\n",
      "I am waiting to receive practice files of today,rahul\n",
      "Keep up the good work,Ashish\n",
      "I am waiting to receive practice files of today,ashish\n",
      "Keep up the good work,Shahdeena\n",
      "I am waiting to receive practice files of today,shahdeena\n",
      "Keep up the good work,Samia\n",
      "I am waiting to receive practice files of today,samia\n",
      "Keep up the good work,Suresh\n",
      "I am waiting to receive practice files of today,suresh\n"
     ]
    }
   ],
   "source": [
    "# Additional requirement: I am waiting to receive practice files of today\n",
    "\n",
    "for y in my_students:\n",
    "    print(f\"Keep up the good work,{y.title()}\")\n",
    "    print(f\"I am waiting to receive practice files of today,{y}\")"
   ]
  },
  {
   "cell_type": "code",
   "execution_count": 18,
   "metadata": {},
   "outputs": [
    {
     "name": "stdout",
     "output_type": "stream",
     "text": [
      "Keep up the good work,Rahul\n",
      "I am waiting to receive practice files of today,rahul.\n",
      "\n",
      "Keep up the good work,Ashish\n",
      "I am waiting to receive practice files of today,ashish.\n",
      "\n",
      "Keep up the good work,Shahdeena\n",
      "I am waiting to receive practice files of today,shahdeena.\n",
      "\n",
      "Keep up the good work,Samia\n",
      "I am waiting to receive practice files of today,samia.\n",
      "\n",
      "Keep up the good work,Suresh\n",
      "I am waiting to receive practice files of today,suresh.\n",
      "\n"
     ]
    }
   ],
   "source": [
    "# enhancement of code:\n",
    "\n",
    "for y in my_students:\n",
    "    print(f\"Keep up the good work,{y.title()}\")\n",
    "    print(f\"I am waiting to receive practice files of today,{y}.\\n\")"
   ]
  },
  {
   "cell_type": "code",
   "execution_count": 24,
   "metadata": {},
   "outputs": [
    {
     "name": "stdout",
     "output_type": "stream",
     "text": [
      "Keep up the good work,Rahul\n",
      "I am waiting to receive practice files of today,rahul.\n",
      "\n",
      "Keep up the good work,Ashish\n",
      "I am waiting to receive practice files of today,ashish.\n",
      "\n",
      "Keep up the good work,Shahdeena\n",
      "I am waiting to receive practice files of today,shahdeena.\n",
      "\n",
      "Keep up the good work,Samia\n",
      "I am waiting to receive practice files of today,samia.\n",
      "\n",
      "Keep up the good work,Suresh\n",
      "I am waiting to receive practice files of today,suresh.\n",
      "\n",
      "Thank you all for joining in the python training session !!! \n"
     ]
    }
   ],
   "source": [
    "# enhancement of code:\n",
    "\n",
    "for y in my_students:\n",
    "    print(f\"Keep up the good work,{y.title()}\")\n",
    "    print(f\"I am waiting to receive practice files of today,{y}.\\n\")\n",
    "print('Thank you all for joining in the python training session !!! ')"
   ]
  },
  {
   "cell_type": "code",
   "execution_count": null,
   "metadata": {},
   "outputs": [],
   "source": []
  }
 ],
 "metadata": {
  "kernelspec": {
   "display_name": "Python 3",
   "language": "python",
   "name": "python3"
  },
  "language_info": {
   "codemirror_mode": {
    "name": "ipython",
    "version": 3
   },
   "file_extension": ".py",
   "mimetype": "text/x-python",
   "name": "python",
   "nbconvert_exporter": "python",
   "pygments_lexer": "ipython3",
   "version": "3.7.6"
  }
 },
 "nbformat": 4,
 "nbformat_minor": 4
}
